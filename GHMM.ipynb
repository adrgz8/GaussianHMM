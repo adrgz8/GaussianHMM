{
  "nbformat": 4,
  "nbformat_minor": 0,
  "metadata": {
    "colab": {
      "provenance": [],
      "collapsed_sections": [],
      "authorship_tag": "ABX9TyM/yiWk1QHM/bwCIwJZRMIQ",
      "include_colab_link": true
    },
    "kernelspec": {
      "name": "python3",
      "display_name": "Python 3"
    },
    "language_info": {
      "name": "python"
    }
  },
  "cells": [
    {
      "cell_type": "markdown",
      "metadata": {
        "id": "view-in-github",
        "colab_type": "text"
      },
      "source": [
        "<a href=\"https://colab.research.google.com/github/adrianrdz8/GaussianHMM/blob/master/GHMM.ipynb\" target=\"_parent\"><img src=\"https://colab.research.google.com/assets/colab-badge.svg\" alt=\"Open In Colab\"/></a>"
      ]
    },
    {
      "cell_type": "markdown",
      "source": [
        "#Gaussian Hidden Markov Model\n",
        "This is a project from the class of Methods of Classification and Dimensionality reduction from the University of Wroclaw"
      ],
      "metadata": {
        "id": "l_7Eczv3zz67"
      }
    },
    {
      "cell_type": "markdown",
      "source": [
        "##Installing necessary modules"
      ],
      "metadata": {
        "id": "1xh3AS1f0NW0"
      }
    },
    {
      "cell_type": "code",
      "source": [
        "!pip install hmmlearn"
      ],
      "metadata": {
        "colab": {
          "base_uri": "https://localhost:8080/"
        },
        "id": "MS3gYtt5YK19",
        "outputId": "67d1bbca-2aeb-4a82-c923-4e73ce04c2ab"
      },
      "execution_count": 1,
      "outputs": [
        {
          "output_type": "stream",
          "name": "stdout",
          "text": [
            "Looking in indexes: https://pypi.org/simple, https://us-python.pkg.dev/colab-wheels/public/simple/\n",
            "Requirement already satisfied: hmmlearn in /usr/local/lib/python3.7/dist-packages (0.2.7)\n",
            "Requirement already satisfied: scipy>=0.19 in /usr/local/lib/python3.7/dist-packages (from hmmlearn) (1.7.3)\n",
            "Requirement already satisfied: scikit-learn>=0.16 in /usr/local/lib/python3.7/dist-packages (from hmmlearn) (1.0.2)\n",
            "Requirement already satisfied: numpy>=1.10 in /usr/local/lib/python3.7/dist-packages (from hmmlearn) (1.21.6)\n",
            "Requirement already satisfied: threadpoolctl>=2.0.0 in /usr/local/lib/python3.7/dist-packages (from scikit-learn>=0.16->hmmlearn) (3.1.0)\n",
            "Requirement already satisfied: joblib>=0.11 in /usr/local/lib/python3.7/dist-packages (from scikit-learn>=0.16->hmmlearn) (1.1.0)\n"
          ]
        }
      ]
    },
    {
      "cell_type": "code",
      "execution_count": 2,
      "metadata": {
        "id": "XoheeNRguTdK"
      },
      "outputs": [],
      "source": [
        "from google.colab import drive\n",
        "from collections import Counter\n",
        "from collections import defaultdict\n",
        "from hmmlearn import hmm\n",
        "from sklearn.cluster import KMeans\n",
        "from sklearn.metrics import silhouette_score\n",
        "from sklearn import mixture\n",
        "import csv\n",
        "import json\n",
        "import math\n",
        "import matplotlib.pyplot as plt\n",
        "import numpy as np\n",
        "import pandas as pd\n",
        "import argparse "
      ]
    },
    {
      "cell_type": "markdown",
      "source": [
        "## Data downloading"
      ],
      "metadata": {
        "id": "-Q0CeDjp1u4e"
      }
    },
    {
      "cell_type": "code",
      "source": [
        "with open('data_public.csv', 'r') as csv_file:\n",
        "    data = list(csv.reader(csv_file, delimiter=';'))"
      ],
      "metadata": {
        "id": "cwoABiCdwH7J"
      },
      "execution_count": 3,
      "outputs": []
    },
    {
      "cell_type": "code",
      "source": [
        "df = pd.DataFrame(data)\n",
        "df = df.set_index(0)\n",
        "n, p = df.shape"
      ],
      "metadata": {
        "id": "jTHlRFKnwsJO"
      },
      "execution_count": 4,
      "outputs": []
    },
    {
      "cell_type": "code",
      "source": [
        "all_vals = df.values.astype(float).tolist()"
      ],
      "metadata": {
        "id": "atDbVzPV0thJ"
      },
      "execution_count": 5,
      "outputs": []
    },
    {
      "cell_type": "code",
      "source": [
        "df.head()"
      ],
      "metadata": {
        "colab": {
          "base_uri": "https://localhost:8080/",
          "height": 331
        },
        "id": "GeiCLQNq0_WF",
        "outputId": "eaca822c-9843-415b-d3a9-c1b7a857ed6e"
      },
      "execution_count": 6,
      "outputs": [
        {
          "output_type": "execute_result",
          "data": {
            "text/plain": [
              "                 1                   2                    3     \\\n",
              "0                                                                \n",
              "0  17.440426893012674  18.698026837176727  -1.0501366808961374   \n",
              "1   7.690539833190373   6.812853471572357     8.06143321362935   \n",
              "2  1.5533805597145094   7.562209964406401    7.164539067673536   \n",
              "3  16.965469413034114  18.749013254353006   0.9787293027789921   \n",
              "4  20.888769092216805  19.025386904831883    19.28509130547773   \n",
              "\n",
              "                  4                    5                    6     \\\n",
              "0                                                                  \n",
              "0    18.84617923917562  -0.5236423103271073  -3.1877514710475774   \n",
              "1    8.089214707726175  0.41513628627972754    7.929586363993851   \n",
              "2   1.9860303523119833   1.9767153650986846    1.767606281348555   \n",
              "3  -1.2764620297518323    17.37039274918025  -3.3338324485948636   \n",
              "4    19.67006717124081   20.615855592287446   20.801112852472947   \n",
              "\n",
              "                 7                    8                    9     \\\n",
              "0                                                                 \n",
              "0   20.23935137711991   19.547900429144796  0.46503522579027523   \n",
              "1   7.812755525160936    8.920244418122266   1.4637320314089075   \n",
              "2  10.036525367691562   10.188470489518911   16.162713684132974   \n",
              "3   17.81489196063149  -0.7312644870857037   17.313577935623968   \n",
              "4  18.202574166516456   20.082696060778805   20.141571717899307   \n",
              "\n",
              "                  10    ...  1489  1490  1491  1492  1493  1494  1495  1496  \\\n",
              "0                       ...                                                   \n",
              "0  -1.8922662318333017  ...  None  None  None  None  None  None  None  None   \n",
              "1     8.46760061503703  ...  None  None  None  None  None  None  None  None   \n",
              "2    8.550819206308915  ...  None  None  None  None  None  None  None  None   \n",
              "3   18.187884383536076  ...  None  None  None  None  None  None  None  None   \n",
              "4    6.086688983356466  ...  None  None  None  None  None  None  None  None   \n",
              "\n",
              "   1497  1498  \n",
              "0              \n",
              "0  None  None  \n",
              "1  None  None  \n",
              "2  None  None  \n",
              "3  None  None  \n",
              "4  None  None  \n",
              "\n",
              "[5 rows x 1498 columns]"
            ],
            "text/html": [
              "\n",
              "  <div id=\"df-512be1d2-1b68-4516-9d7d-cb56027e1d80\">\n",
              "    <div class=\"colab-df-container\">\n",
              "      <div>\n",
              "<style scoped>\n",
              "    .dataframe tbody tr th:only-of-type {\n",
              "        vertical-align: middle;\n",
              "    }\n",
              "\n",
              "    .dataframe tbody tr th {\n",
              "        vertical-align: top;\n",
              "    }\n",
              "\n",
              "    .dataframe thead th {\n",
              "        text-align: right;\n",
              "    }\n",
              "</style>\n",
              "<table border=\"1\" class=\"dataframe\">\n",
              "  <thead>\n",
              "    <tr style=\"text-align: right;\">\n",
              "      <th></th>\n",
              "      <th>1</th>\n",
              "      <th>2</th>\n",
              "      <th>3</th>\n",
              "      <th>4</th>\n",
              "      <th>5</th>\n",
              "      <th>6</th>\n",
              "      <th>7</th>\n",
              "      <th>8</th>\n",
              "      <th>9</th>\n",
              "      <th>10</th>\n",
              "      <th>...</th>\n",
              "      <th>1489</th>\n",
              "      <th>1490</th>\n",
              "      <th>1491</th>\n",
              "      <th>1492</th>\n",
              "      <th>1493</th>\n",
              "      <th>1494</th>\n",
              "      <th>1495</th>\n",
              "      <th>1496</th>\n",
              "      <th>1497</th>\n",
              "      <th>1498</th>\n",
              "    </tr>\n",
              "    <tr>\n",
              "      <th>0</th>\n",
              "      <th></th>\n",
              "      <th></th>\n",
              "      <th></th>\n",
              "      <th></th>\n",
              "      <th></th>\n",
              "      <th></th>\n",
              "      <th></th>\n",
              "      <th></th>\n",
              "      <th></th>\n",
              "      <th></th>\n",
              "      <th></th>\n",
              "      <th></th>\n",
              "      <th></th>\n",
              "      <th></th>\n",
              "      <th></th>\n",
              "      <th></th>\n",
              "      <th></th>\n",
              "      <th></th>\n",
              "      <th></th>\n",
              "      <th></th>\n",
              "      <th></th>\n",
              "    </tr>\n",
              "  </thead>\n",
              "  <tbody>\n",
              "    <tr>\n",
              "      <th>0</th>\n",
              "      <td>17.440426893012674</td>\n",
              "      <td>18.698026837176727</td>\n",
              "      <td>-1.0501366808961374</td>\n",
              "      <td>18.84617923917562</td>\n",
              "      <td>-0.5236423103271073</td>\n",
              "      <td>-3.1877514710475774</td>\n",
              "      <td>20.23935137711991</td>\n",
              "      <td>19.547900429144796</td>\n",
              "      <td>0.46503522579027523</td>\n",
              "      <td>-1.8922662318333017</td>\n",
              "      <td>...</td>\n",
              "      <td>None</td>\n",
              "      <td>None</td>\n",
              "      <td>None</td>\n",
              "      <td>None</td>\n",
              "      <td>None</td>\n",
              "      <td>None</td>\n",
              "      <td>None</td>\n",
              "      <td>None</td>\n",
              "      <td>None</td>\n",
              "      <td>None</td>\n",
              "    </tr>\n",
              "    <tr>\n",
              "      <th>1</th>\n",
              "      <td>7.690539833190373</td>\n",
              "      <td>6.812853471572357</td>\n",
              "      <td>8.06143321362935</td>\n",
              "      <td>8.089214707726175</td>\n",
              "      <td>0.41513628627972754</td>\n",
              "      <td>7.929586363993851</td>\n",
              "      <td>7.812755525160936</td>\n",
              "      <td>8.920244418122266</td>\n",
              "      <td>1.4637320314089075</td>\n",
              "      <td>8.46760061503703</td>\n",
              "      <td>...</td>\n",
              "      <td>None</td>\n",
              "      <td>None</td>\n",
              "      <td>None</td>\n",
              "      <td>None</td>\n",
              "      <td>None</td>\n",
              "      <td>None</td>\n",
              "      <td>None</td>\n",
              "      <td>None</td>\n",
              "      <td>None</td>\n",
              "      <td>None</td>\n",
              "    </tr>\n",
              "    <tr>\n",
              "      <th>2</th>\n",
              "      <td>1.5533805597145094</td>\n",
              "      <td>7.562209964406401</td>\n",
              "      <td>7.164539067673536</td>\n",
              "      <td>1.9860303523119833</td>\n",
              "      <td>1.9767153650986846</td>\n",
              "      <td>1.767606281348555</td>\n",
              "      <td>10.036525367691562</td>\n",
              "      <td>10.188470489518911</td>\n",
              "      <td>16.162713684132974</td>\n",
              "      <td>8.550819206308915</td>\n",
              "      <td>...</td>\n",
              "      <td>None</td>\n",
              "      <td>None</td>\n",
              "      <td>None</td>\n",
              "      <td>None</td>\n",
              "      <td>None</td>\n",
              "      <td>None</td>\n",
              "      <td>None</td>\n",
              "      <td>None</td>\n",
              "      <td>None</td>\n",
              "      <td>None</td>\n",
              "    </tr>\n",
              "    <tr>\n",
              "      <th>3</th>\n",
              "      <td>16.965469413034114</td>\n",
              "      <td>18.749013254353006</td>\n",
              "      <td>0.9787293027789921</td>\n",
              "      <td>-1.2764620297518323</td>\n",
              "      <td>17.37039274918025</td>\n",
              "      <td>-3.3338324485948636</td>\n",
              "      <td>17.81489196063149</td>\n",
              "      <td>-0.7312644870857037</td>\n",
              "      <td>17.313577935623968</td>\n",
              "      <td>18.187884383536076</td>\n",
              "      <td>...</td>\n",
              "      <td>None</td>\n",
              "      <td>None</td>\n",
              "      <td>None</td>\n",
              "      <td>None</td>\n",
              "      <td>None</td>\n",
              "      <td>None</td>\n",
              "      <td>None</td>\n",
              "      <td>None</td>\n",
              "      <td>None</td>\n",
              "      <td>None</td>\n",
              "    </tr>\n",
              "    <tr>\n",
              "      <th>4</th>\n",
              "      <td>20.888769092216805</td>\n",
              "      <td>19.025386904831883</td>\n",
              "      <td>19.28509130547773</td>\n",
              "      <td>19.67006717124081</td>\n",
              "      <td>20.615855592287446</td>\n",
              "      <td>20.801112852472947</td>\n",
              "      <td>18.202574166516456</td>\n",
              "      <td>20.082696060778805</td>\n",
              "      <td>20.141571717899307</td>\n",
              "      <td>6.086688983356466</td>\n",
              "      <td>...</td>\n",
              "      <td>None</td>\n",
              "      <td>None</td>\n",
              "      <td>None</td>\n",
              "      <td>None</td>\n",
              "      <td>None</td>\n",
              "      <td>None</td>\n",
              "      <td>None</td>\n",
              "      <td>None</td>\n",
              "      <td>None</td>\n",
              "      <td>None</td>\n",
              "    </tr>\n",
              "  </tbody>\n",
              "</table>\n",
              "<p>5 rows × 1498 columns</p>\n",
              "</div>\n",
              "      <button class=\"colab-df-convert\" onclick=\"convertToInteractive('df-512be1d2-1b68-4516-9d7d-cb56027e1d80')\"\n",
              "              title=\"Convert this dataframe to an interactive table.\"\n",
              "              style=\"display:none;\">\n",
              "        \n",
              "  <svg xmlns=\"http://www.w3.org/2000/svg\" height=\"24px\"viewBox=\"0 0 24 24\"\n",
              "       width=\"24px\">\n",
              "    <path d=\"M0 0h24v24H0V0z\" fill=\"none\"/>\n",
              "    <path d=\"M18.56 5.44l.94 2.06.94-2.06 2.06-.94-2.06-.94-.94-2.06-.94 2.06-2.06.94zm-11 1L8.5 8.5l.94-2.06 2.06-.94-2.06-.94L8.5 2.5l-.94 2.06-2.06.94zm10 10l.94 2.06.94-2.06 2.06-.94-2.06-.94-.94-2.06-.94 2.06-2.06.94z\"/><path d=\"M17.41 7.96l-1.37-1.37c-.4-.4-.92-.59-1.43-.59-.52 0-1.04.2-1.43.59L10.3 9.45l-7.72 7.72c-.78.78-.78 2.05 0 2.83L4 21.41c.39.39.9.59 1.41.59.51 0 1.02-.2 1.41-.59l7.78-7.78 2.81-2.81c.8-.78.8-2.07 0-2.86zM5.41 20L4 18.59l7.72-7.72 1.47 1.35L5.41 20z\"/>\n",
              "  </svg>\n",
              "      </button>\n",
              "      \n",
              "  <style>\n",
              "    .colab-df-container {\n",
              "      display:flex;\n",
              "      flex-wrap:wrap;\n",
              "      gap: 12px;\n",
              "    }\n",
              "\n",
              "    .colab-df-convert {\n",
              "      background-color: #E8F0FE;\n",
              "      border: none;\n",
              "      border-radius: 50%;\n",
              "      cursor: pointer;\n",
              "      display: none;\n",
              "      fill: #1967D2;\n",
              "      height: 32px;\n",
              "      padding: 0 0 0 0;\n",
              "      width: 32px;\n",
              "    }\n",
              "\n",
              "    .colab-df-convert:hover {\n",
              "      background-color: #E2EBFA;\n",
              "      box-shadow: 0px 1px 2px rgba(60, 64, 67, 0.3), 0px 1px 3px 1px rgba(60, 64, 67, 0.15);\n",
              "      fill: #174EA6;\n",
              "    }\n",
              "\n",
              "    [theme=dark] .colab-df-convert {\n",
              "      background-color: #3B4455;\n",
              "      fill: #D2E3FC;\n",
              "    }\n",
              "\n",
              "    [theme=dark] .colab-df-convert:hover {\n",
              "      background-color: #434B5C;\n",
              "      box-shadow: 0px 1px 3px 1px rgba(0, 0, 0, 0.15);\n",
              "      filter: drop-shadow(0px 1px 2px rgba(0, 0, 0, 0.3));\n",
              "      fill: #FFFFFF;\n",
              "    }\n",
              "  </style>\n",
              "\n",
              "      <script>\n",
              "        const buttonEl =\n",
              "          document.querySelector('#df-512be1d2-1b68-4516-9d7d-cb56027e1d80 button.colab-df-convert');\n",
              "        buttonEl.style.display =\n",
              "          google.colab.kernel.accessAllowed ? 'block' : 'none';\n",
              "\n",
              "        async function convertToInteractive(key) {\n",
              "          const element = document.querySelector('#df-512be1d2-1b68-4516-9d7d-cb56027e1d80');\n",
              "          const dataTable =\n",
              "            await google.colab.kernel.invokeFunction('convertToInteractive',\n",
              "                                                     [key], {});\n",
              "          if (!dataTable) return;\n",
              "\n",
              "          const docLinkHtml = 'Like what you see? Visit the ' +\n",
              "            '<a target=\"_blank\" href=https://colab.research.google.com/notebooks/data_table.ipynb>data table notebook</a>'\n",
              "            + ' to learn more about interactive tables.';\n",
              "          element.innerHTML = '';\n",
              "          dataTable['output_type'] = 'display_data';\n",
              "          await google.colab.output.renderOutput(dataTable, element);\n",
              "          const docLink = document.createElement('div');\n",
              "          docLink.innerHTML = docLinkHtml;\n",
              "          element.appendChild(docLink);\n",
              "        }\n",
              "      </script>\n",
              "    </div>\n",
              "  </div>\n",
              "  "
            ]
          },
          "metadata": {},
          "execution_count": 6
        }
      ]
    },
    {
      "cell_type": "markdown",
      "source": [
        "Dataset contains 2000 rows with different number of columns. Each row represents a series of numbers."
      ],
      "metadata": {
        "id": "jaN3oIrX1Br4"
      }
    },
    {
      "cell_type": "markdown",
      "source": [
        "##Data cleaning and NAN removing"
      ],
      "metadata": {
        "id": "0Fhv5w7oAUO2"
      }
    },
    {
      "cell_type": "code",
      "source": [
        "nans_num = [sum([math.isnan(x) for x in all_vals[i]]) for i in range(n)]"
      ],
      "metadata": {
        "id": "3yB4UaKu4e2q"
      },
      "execution_count": 8,
      "outputs": []
    },
    {
      "cell_type": "code",
      "source": [
        "# all pos without nans\n",
        "element_len = {}\n",
        "min_len = p\n",
        "min_len_loc = 0\n",
        "for i in range(n):\n",
        "    all_vals[i] = all_vals[i][0:p-nans_num[i]]\n",
        "    element_len[i] = len(all_vals[i])\n",
        "    if len(all_vals[i]) < min_len:\n",
        "        min_len = len(all_vals[i])\n",
        "        min_len_loc = i\n",
        "print('Columns were updated with correct number of values')\n",
        "print(f'The row with less numbers is # {min_len_loc} with {min_len} elements.')"
      ],
      "metadata": {
        "colab": {
          "base_uri": "https://localhost:8080/"
        },
        "id": "lz03c0Hc-PvR",
        "outputId": "3c378db4-2f01-4c69-86c3-47c48ff1c72f"
      },
      "execution_count": 9,
      "outputs": [
        {
          "output_type": "stream",
          "name": "stdout",
          "text": [
            "Columns were updated with correct number of values\n",
            "The row with less numbers is # 88 with 999 elements.\n"
          ]
        }
      ]
    },
    {
      "cell_type": "code",
      "source": [
        "nan_test = sum([sum([math.isnan(x) for x in all_vals[i]]) for i in range(n)])\n",
        "if nan_test == 0:\n",
        "    print('All nan values were located at the end of every row.')"
      ],
      "metadata": {
        "colab": {
          "base_uri": "https://localhost:8080/"
        },
        "id": "zkt2IdWF_9i0",
        "outputId": "995659ce-4466-4077-f138-990811702cb5"
      },
      "execution_count": 10,
      "outputs": [
        {
          "output_type": "stream",
          "name": "stdout",
          "text": [
            "All nan values were located at the end of every row.\n"
          ]
        }
      ]
    },
    {
      "cell_type": "markdown",
      "source": [
        "In order to test the model with RMSE, I removed the last number of the serie. This number will be predicted using GHMM."
      ],
      "metadata": {
        "id": "38XaxOx22dDO"
      }
    },
    {
      "cell_type": "code",
      "source": [
        "correct_values = [all_vals[i][-1] for i in range(len(all_vals))]"
      ],
      "metadata": {
        "id": "I_NHl20-2qVI"
      },
      "execution_count": 11,
      "outputs": []
    },
    {
      "cell_type": "code",
      "source": [
        "[all_vals[i].pop() for i in range(len(all_vals))]"
      ],
      "metadata": {
        "id": "ur6OhZ5Z4meB"
      },
      "execution_count": null,
      "outputs": []
    },
    {
      "cell_type": "markdown",
      "source": [
        "##Data analysis"
      ],
      "metadata": {
        "id": "9aDItM-BUvsD"
      }
    },
    {
      "cell_type": "code",
      "source": [
        "data_plt = [float(i) for i in all_vals[0]]\n",
        "plt.scatter(data_plt, range(len(data_plt)))"
      ],
      "metadata": {
        "colab": {
          "base_uri": "https://localhost:8080/",
          "height": 282
        },
        "id": "7DzuX9MbIw5m",
        "outputId": "b70dbf24-b3c0-48c9-92af-92c03d3b2f9a"
      },
      "execution_count": 13,
      "outputs": [
        {
          "output_type": "execute_result",
          "data": {
            "text/plain": [
              "<matplotlib.collections.PathCollection at 0x7f2bc22cfe50>"
            ]
          },
          "metadata": {},
          "execution_count": 13
        },
        {
          "output_type": "display_data",
          "data": {
            "text/plain": [
              "<Figure size 432x288 with 1 Axes>"
            ],
            "image/png": "[encoded data removed]"
          },
          "metadata": {
            "needs_background": "light"
          }
        }
      ]
    },
    {
      "cell_type": "code",
      "source": [
        "data_plt = [float(i) for i in all_vals[2]]\n",
        "plt.scatter(data_plt, range(len(data_plt)))"
      ],
      "metadata": {
        "colab": {
          "base_uri": "https://localhost:8080/",
          "height": 285
        },
        "id": "2cov27VQ5nwm",
        "outputId": "517ce51f-f1ac-41b7-bdb8-236a1444f57f"
      },
      "execution_count": 14,
      "outputs": [
        {
          "output_type": "execute_result",
          "data": {
            "text/plain": [
              "<matplotlib.collections.PathCollection at 0x7f2bc1d86510>"
            ]
          },
          "metadata": {},
          "execution_count": 14
        },
        {
          "output_type": "display_data",
          "data": {
            "text/plain": [
              "<Figure size 432x288 with 1 Axes>"
            ],
            "image/png": "[encoded data removed]"
          },
          "metadata": {
            "needs_background": "light"
          }
        }
      ]
    },
    {
      "cell_type": "markdown",
      "source": [
        "We observe in above image that numbers from each column are divided into clusters. Next step is to analyize the number of clusters per each row using Bayesian Information Criteria (BIC) to identify the best number of clusters for the data."
      ],
      "metadata": {
        "id": "_rzu3elQ5bVh"
      }
    },
    {
      "cell_type": "code",
      "source": [
        "bv = []\n",
        "for i in range(len(all_vals)):\n",
        "    low_bic = []\n",
        "    for n_comp in range(2,5):\n",
        "        X = np.array(all_vals[i]).reshape(-1,1)\n",
        "        gmm = mixture.GaussianMixture(n_components=n_comp)\n",
        "        gmm.fit(X)\n",
        "        low_bic.append(gmm.bic(X))\n",
        "    best_comp = low_bic.index(min(low_bic)) + 2\n",
        "    bv.append(best_comp)"
      ],
      "metadata": {
        "id": "qgu9mjDBWmjM"
      },
      "execution_count": 186,
      "outputs": []
    },
    {
      "cell_type": "markdown",
      "source": [
        "## Applying Gaussian Hidden Markov Model"
      ],
      "metadata": {
        "id": "5ArItSpc8kTE"
      }
    },
    {
      "cell_type": "markdown",
      "source": [
        "Here, I decided to test 2 different methods:\n",
        "1. **Random value** generated from the proposed new state from the Gaussian Markov Model.\n",
        "2. **Mean** of all the values of the new state proposed from the Gaussian Markov Model."
      ],
      "metadata": {
        "id": "bqi7iTbWSeP4"
      }
    },
    {
      "cell_type": "code",
      "source": [
        "def random_value(model, next_state_pred):\n",
        "    new_value_state = model.sample(n_samples=1, currstate=next_state_pred)\n",
        "    pred_value = new_value_state[0][0][0]\n",
        "    next_states_value = new_value_state[1][0]\n",
        "    return pred_value, next_states_value"
      ],
      "metadata": {
        "id": "2LQHjtImBvgY"
      },
      "execution_count": 187,
      "outputs": []
    },
    {
      "cell_type": "code",
      "source": [
        "def mean_value(all_vals, all_means, next_states):\n",
        "    # Getting all means\n",
        "    final_pred = [all_means[i][next_states[i]] for i in range(len(all_vals))]\n",
        "    return final_pred"
      ],
      "metadata": {
        "id": "rIVk22YSDV19"
      },
      "execution_count": 188,
      "outputs": []
    },
    {
      "cell_type": "code",
      "source": [
        "next_states = []\n",
        "next_states_1 = []\n",
        "all_preds = []\n",
        "final_pred_1 = []\n",
        "matrices = []\n",
        "for i in range(len(all_vals)):\n",
        "    # Generating X for each row\n",
        "    X = all_vals[i]\n",
        "    X = np.array(X)\n",
        "    X = X.reshape(-1,1)\n",
        "\n",
        "    # Creating the model and fitting it to the data\n",
        "    model = hmm.GaussianHMM(bv[i])\n",
        "    model.fit(X)\n",
        "\n",
        "    # Get the sequence of states\n",
        "    pred_vals = model.predict(X)\n",
        "    all_preds.append(pred_vals)\n",
        "\n",
        "    # Get all the transition matrices\n",
        "    tran_matrix = model.transmat_\n",
        "    matrices.append(tran_matrix)\n",
        "\n",
        "    # Predict next state based on the state with highest probability \n",
        "    # in the transition matrix\n",
        "    next_state_pred = np.argmax(tran_matrix[pred_vals[-1]])\n",
        "    next_states.append(next_state_pred)\n",
        "\n",
        "    # Predict next value based on a random number from the next distribution\n",
        "    pred_1, next_state_1 = random_value(model, next_state_pred)\n",
        "    final_pred_1.append(pred_1)\n",
        "    next_states_1.append(next_state_1)\n",
        "\n",
        "# Predict next value based on the mean of the next distribution\n",
        "all_means = [[(np.mean([all_vals[k][i] for i in range(len(all_vals[k])) if all_preds[k][i] == j])) for j in range(bv[k])] for k in range(len(all_vals))]\n",
        "# Removing nan values from all means of the rows\n",
        "nan_means = [(i, j) for i in range(len(all_vals)) for j in range(bv[i]) if math.isnan(all_means[i][j])]\n",
        "for i in range(len(nan_means)):\n",
        "    all_means[nan_means[i][0]][nan_means[i][1]] = 0\n",
        "final_pred_2 = mean_value(all_vals, all_means, next_states)"
      ],
      "metadata": {
        "id": "XHn5xkcfyAiF"
      },
      "execution_count": null,
      "outputs": []
    },
    {
      "cell_type": "markdown",
      "source": [
        "## Testing results with RMSE"
      ],
      "metadata": {
        "id": "V6Xb7PZIK49Q"
      }
    },
    {
      "cell_type": "markdown",
      "source": [
        "In order to test the results, Root Mean Squared Error (RMSE) was utilized:\n",
        "\\begin{align}\n",
        "RMSE = \\sqrt{\\frac{1}{R}\\sum_{i=0}^{R-1}{(y_i-y_{est}})^2}\n",
        "\\end{align}"
      ],
      "metadata": {
        "id": "gXAajhXfK72t"
      }
    },
    {
      "cell_type": "code",
      "source": [
        "def rmse(correct_values, prediction):\n",
        "    val = np.sqrt(np.sum(np.subtract(correct_values,prediction)**2) * (1/n))\n",
        "    return val"
      ],
      "metadata": {
        "id": "dlkBTI-_JFfN"
      },
      "execution_count": 195,
      "outputs": []
    },
    {
      "cell_type": "code",
      "source": [
        "rmse(correct_values, final_pred_1)"
      ],
      "metadata": {
        "colab": {
          "base_uri": "https://localhost:8080/"
        },
        "id": "fvvs3De0KquV",
        "outputId": "e95f4118-b153-4201-9138-1c9392214707"
      },
      "execution_count": 196,
      "outputs": [
        {
          "output_type": "execute_result",
          "data": {
            "text/plain": [
              "8.263501531823577"
            ]
          },
          "metadata": {},
          "execution_count": 196
        }
      ]
    },
    {
      "cell_type": "code",
      "source": [
        "rmse(correct_values, final_pred_2)"
      ],
      "metadata": {
        "colab": {
          "base_uri": "https://localhost:8080/"
        },
        "id": "TZ83IUm9KyHe",
        "outputId": "bb3c73f9-9565-45d7-aad9-6a40f4f8cd04"
      },
      "execution_count": 197,
      "outputs": [
        {
          "output_type": "execute_result",
          "data": {
            "text/plain": [
              "8.222845128249196"
            ]
          },
          "metadata": {},
          "execution_count": 197
        }
      ]
    },
    {
      "cell_type": "markdown",
      "source": [
        "After getting RMSE for both methods, there is not a representative difference between them. They have very similar RMSE."
      ],
      "metadata": {
        "id": "xUlzFWEiSTDu"
      }
    },
    {
      "cell_type": "markdown",
      "source": [
        "## New (And best) approach"
      ],
      "metadata": {
        "id": "I2MKCzmfTRq5"
      }
    },
    {
      "cell_type": "markdown",
      "source": [
        "In order to reduce RMSE, instead of utilizing the **Mean** I decided to utilize the **Weighted Mean** by weighting all the means of each row depending on the probabilities from the actual state given by the transition matrix."
      ],
      "metadata": {
        "id": "TdtcKp9BTTjp"
      }
    },
    {
      "cell_type": "code",
      "source": [
        "def weighted_mean(all_means, matrices, all_preds, all_vals):\n",
        "    wm = [np.sum(np.multiply(matrices[i][all_preds[i][-1]],all_means[i])) for i in range(len(all_vals))]\n",
        "    return wm"
      ],
      "metadata": {
        "id": "SDNEs2xCPthi"
      },
      "execution_count": 198,
      "outputs": []
    },
    {
      "cell_type": "code",
      "source": [
        "final_pred_3 = weighted_mean(all_means, matrices, all_preds, all_vals)"
      ],
      "metadata": {
        "id": "yQVPxCtTRtzy"
      },
      "execution_count": 199,
      "outputs": []
    },
    {
      "cell_type": "code",
      "source": [
        "rmse(correct_values, final_pred_3)"
      ],
      "metadata": {
        "colab": {
          "base_uri": "https://localhost:8080/"
        },
        "id": "8VXHNlQOR5C2",
        "outputId": "75c36631-2229-48b7-9c26-b3b1b43da0a5"
      },
      "execution_count": 200,
      "outputs": [
        {
          "output_type": "execute_result",
          "data": {
            "text/plain": [
              "6.316159730861374"
            ]
          },
          "metadata": {},
          "execution_count": 200
        }
      ]
    }
  ]
}